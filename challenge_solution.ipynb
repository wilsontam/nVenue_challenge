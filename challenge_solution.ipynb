{
 "cells": [
  {
   "cell_type": "markdown",
   "metadata": {},
   "source": [
    "# Main Problem (Required)\n",
    "\n",
    "Machine learning is an iterative process. We need to periodically run regression tests to\n",
    "understand how our predictions are doing. Processing that regression data is key to\n",
    "improving future predictions. The task is to process the data in the CSV to determine\n",
    "an accuracy for one specific metric.\n",
    "\n",
    "The provided dataset contains over 400,000 pitches from the 2021 MLB season. It\n",
    "includes some extra information, but the most pertinent parts are the reach and\n",
    "outcome columns. The dataset can be found here. Note: The reach value has been\n",
    "scrambled to be different from our actual predictions.\n",
    "\n",
    "You must process the data in python to generate “accuracy” data for what is considered\n",
    "a “reach” in baseball.\n",
    "\n",
    "● The outcome column contains the result of that at bat (uniquely identified by the\n",
    "combination of game_id and event). Any single (X1), double (X2), triple (X3),\n",
    "homerun (HR), or walk (BB/HBP) would be considered a “reach”.\n",
    "\n",
    "● If the outcome was one of those, then “reach” was correct/true.\n",
    "\n",
    "● The reach column contains the percentage chance the machine learning\n",
    "algorithms predicted the outcome would result in a “reach”.\n",
    "\n",
    "● If you subtract that probability from 100, it should result in the chance the batter\n",
    "“doesn’t reach” or “not”.\n",
    "\n",
    "One simplistic way of gauging correctness (hence the use of “correct”) would be\n",
    "applying these rules:\n",
    "a) If “reach” is greater than “not”, and “reach” was the outcome, then our\n",
    "prediction was “correct” OR\n",
    "b) If “not” is greater than “reach”, and “reach” was NOT the outcome, then\n",
    "our prediction was “correct”\n",
    "\n",
    "In order to generate the accuracy you would need to:\n",
    "1. Determine if each item was a “reach” or “not”.\n",
    "2. Determine if our prediction value was “correct”.\n",
    "3. Determine how many predictions were “correct” out of the total to provide an\n",
    "“accuracy” of how often the models were correct in predicting “reach”.\n",
    "\n",
    "## Additional Problems (Optional)\n",
    "\n",
    "Very few tasks exist within a vacuum. While providing an accuracy number is\n",
    "wonderful, it does not comprehend how this data would be used in a real environment.\n",
    "The following are a few ways this problem is extended in real life.\n",
    "1. How would you turn this into a microservice or automate the running of this?\n",
    "2. Describe how you would parallelize this for more than one outcome.\n",
    "3. How would you communicate the results automatically?\n",
    "4. Add statistical information around the results\n",
    "5. Add visualization of your results\n",
    "\n",
    "Answering these questions in documentation format is acceptable, although code is better if you are able.\n",
    "\n",
    "## Deliverables\n",
    "\n",
    "You will not be committing this to a repository, but package your solution up like you\n",
    "would, including a brief README that describes:\n",
    "1. Your high level approach to the problem.\n",
    "2. How to run your solution\n",
    "3. Any design decisions, trade offs, or assumptions you made.\n",
    "4. Any extensions you have added or would like to add if you had more time.\n",
    "5. What are the bottlenecks in the process? What ways could make this run faster?\n",
    "6. Any and all code, tests, or additional benchmarks you write.\n",
    "\n",
    "In addition to the README and code, please include a brief analysis of the data (what\n",
    "did you find interesting about the data) and any answers to additional problems."
   ]
  },
  {
   "cell_type": "markdown",
   "metadata": {},
   "source": [
    "# Main Problem Solution"
   ]
  },
  {
   "cell_type": "code",
   "execution_count": 33,
   "metadata": {},
   "outputs": [],
   "source": [
    "import pandas as pd\n",
    "import numpy as np"
   ]
  },
  {
   "cell_type": "code",
   "execution_count": 17,
   "metadata": {
    "scrolled": true
   },
   "outputs": [
    {
     "name": "stdout",
     "output_type": "stream",
     "text": [
      "Dimension of dataframe: (414195, 8)\n"
     ]
    }
   ],
   "source": [
    "df = pd.read_csv(r'sample_data.csv')\n",
    "print('Dimension of dataframe:', df.shape)"
   ]
  },
  {
   "cell_type": "markdown",
   "metadata": {},
   "source": [
    "### 1. Determine if each item was a “reach” or “not”."
   ]
  },
  {
   "cell_type": "code",
   "execution_count": 28,
   "metadata": {},
   "outputs": [
    {
     "data": {
      "text/html": [
       "<div>\n",
       "<style scoped>\n",
       "    .dataframe tbody tr th:only-of-type {\n",
       "        vertical-align: middle;\n",
       "    }\n",
       "\n",
       "    .dataframe tbody tr th {\n",
       "        vertical-align: top;\n",
       "    }\n",
       "\n",
       "    .dataframe thead th {\n",
       "        text-align: right;\n",
       "    }\n",
       "</style>\n",
       "<table border=\"1\" class=\"dataframe\">\n",
       "  <thead>\n",
       "    <tr style=\"text-align: right;\">\n",
       "      <th></th>\n",
       "      <th>game_id</th>\n",
       "      <th>event</th>\n",
       "      <th>subevent</th>\n",
       "      <th>outs</th>\n",
       "      <th>balls</th>\n",
       "      <th>strikes</th>\n",
       "      <th>reach</th>\n",
       "      <th>outcome</th>\n",
       "      <th>is_reach</th>\n",
       "    </tr>\n",
       "  </thead>\n",
       "  <tbody>\n",
       "    <tr>\n",
       "      <th>0</th>\n",
       "      <td>503740b8-b4dc-4e91-8f1a-6971b6fdea5c</td>\n",
       "      <td>1.0</td>\n",
       "      <td>1.0</td>\n",
       "      <td>0.0</td>\n",
       "      <td>0.0</td>\n",
       "      <td>0.0</td>\n",
       "      <td>25.77</td>\n",
       "      <td>KS</td>\n",
       "      <td>False</td>\n",
       "    </tr>\n",
       "    <tr>\n",
       "      <th>1</th>\n",
       "      <td>503740b8-b4dc-4e91-8f1a-6971b6fdea5c</td>\n",
       "      <td>1.0</td>\n",
       "      <td>2.0</td>\n",
       "      <td>0.0</td>\n",
       "      <td>0.0</td>\n",
       "      <td>1.0</td>\n",
       "      <td>23.91</td>\n",
       "      <td>KS</td>\n",
       "      <td>False</td>\n",
       "    </tr>\n",
       "    <tr>\n",
       "      <th>2</th>\n",
       "      <td>503740b8-b4dc-4e91-8f1a-6971b6fdea5c</td>\n",
       "      <td>1.0</td>\n",
       "      <td>3.0</td>\n",
       "      <td>0.0</td>\n",
       "      <td>0.0</td>\n",
       "      <td>2.0</td>\n",
       "      <td>13.06</td>\n",
       "      <td>KS</td>\n",
       "      <td>False</td>\n",
       "    </tr>\n",
       "    <tr>\n",
       "      <th>3</th>\n",
       "      <td>503740b8-b4dc-4e91-8f1a-6971b6fdea5c</td>\n",
       "      <td>1.0</td>\n",
       "      <td>4.0</td>\n",
       "      <td>0.0</td>\n",
       "      <td>0.0</td>\n",
       "      <td>2.0</td>\n",
       "      <td>13.12</td>\n",
       "      <td>KS</td>\n",
       "      <td>False</td>\n",
       "    </tr>\n",
       "    <tr>\n",
       "      <th>4</th>\n",
       "      <td>503740b8-b4dc-4e91-8f1a-6971b6fdea5c</td>\n",
       "      <td>2.0</td>\n",
       "      <td>1.0</td>\n",
       "      <td>1.0</td>\n",
       "      <td>0.0</td>\n",
       "      <td>0.0</td>\n",
       "      <td>28.77</td>\n",
       "      <td>KS</td>\n",
       "      <td>False</td>\n",
       "    </tr>\n",
       "  </tbody>\n",
       "</table>\n",
       "</div>"
      ],
      "text/plain": [
       "                                game_id  event  subevent  outs  balls  \\\n",
       "0  503740b8-b4dc-4e91-8f1a-6971b6fdea5c    1.0       1.0   0.0    0.0   \n",
       "1  503740b8-b4dc-4e91-8f1a-6971b6fdea5c    1.0       2.0   0.0    0.0   \n",
       "2  503740b8-b4dc-4e91-8f1a-6971b6fdea5c    1.0       3.0   0.0    0.0   \n",
       "3  503740b8-b4dc-4e91-8f1a-6971b6fdea5c    1.0       4.0   0.0    0.0   \n",
       "4  503740b8-b4dc-4e91-8f1a-6971b6fdea5c    2.0       1.0   1.0    0.0   \n",
       "\n",
       "   strikes  reach outcome  is_reach  \n",
       "0      0.0  25.77      KS     False  \n",
       "1      1.0  23.91      KS     False  \n",
       "2      2.0  13.06      KS     False  \n",
       "3      2.0  13.12      KS     False  \n",
       "4      0.0  28.77      KS     False  "
      ]
     },
     "execution_count": 28,
     "metadata": {},
     "output_type": "execute_result"
    }
   ],
   "source": [
    "# Add \"is_reach\" column (boolean) to dataframe\n",
    "\n",
    "reaches = ['X1', 'X2', 'X3', 'HR', 'BB', 'HBP']\n",
    "is_reach = [True if x in reaches else False for x in df['outcome']]\n",
    "df['is_reach'] = is_reach\n",
    "df.head()"
   ]
  },
  {
   "cell_type": "markdown",
   "metadata": {},
   "source": [
    "### 2. Determine if our prediction value was “correct”."
   ]
  },
  {
   "cell_type": "code",
   "execution_count": 56,
   "metadata": {},
   "outputs": [
    {
     "data": {
      "text/html": [
       "<div>\n",
       "<style scoped>\n",
       "    .dataframe tbody tr th:only-of-type {\n",
       "        vertical-align: middle;\n",
       "    }\n",
       "\n",
       "    .dataframe tbody tr th {\n",
       "        vertical-align: top;\n",
       "    }\n",
       "\n",
       "    .dataframe thead th {\n",
       "        text-align: right;\n",
       "    }\n",
       "</style>\n",
       "<table border=\"1\" class=\"dataframe\">\n",
       "  <thead>\n",
       "    <tr style=\"text-align: right;\">\n",
       "      <th></th>\n",
       "      <th>game_id</th>\n",
       "      <th>event</th>\n",
       "      <th>subevent</th>\n",
       "      <th>outs</th>\n",
       "      <th>balls</th>\n",
       "      <th>strikes</th>\n",
       "      <th>reach</th>\n",
       "      <th>outcome</th>\n",
       "      <th>is_reach</th>\n",
       "      <th>prediction_correct</th>\n",
       "    </tr>\n",
       "  </thead>\n",
       "  <tbody>\n",
       "    <tr>\n",
       "      <th>0</th>\n",
       "      <td>503740b8-b4dc-4e91-8f1a-6971b6fdea5c</td>\n",
       "      <td>1.0</td>\n",
       "      <td>1.0</td>\n",
       "      <td>0.0</td>\n",
       "      <td>0.0</td>\n",
       "      <td>0.0</td>\n",
       "      <td>25.77</td>\n",
       "      <td>KS</td>\n",
       "      <td>False</td>\n",
       "      <td>True</td>\n",
       "    </tr>\n",
       "    <tr>\n",
       "      <th>1</th>\n",
       "      <td>503740b8-b4dc-4e91-8f1a-6971b6fdea5c</td>\n",
       "      <td>1.0</td>\n",
       "      <td>2.0</td>\n",
       "      <td>0.0</td>\n",
       "      <td>0.0</td>\n",
       "      <td>1.0</td>\n",
       "      <td>23.91</td>\n",
       "      <td>KS</td>\n",
       "      <td>False</td>\n",
       "      <td>True</td>\n",
       "    </tr>\n",
       "    <tr>\n",
       "      <th>2</th>\n",
       "      <td>503740b8-b4dc-4e91-8f1a-6971b6fdea5c</td>\n",
       "      <td>1.0</td>\n",
       "      <td>3.0</td>\n",
       "      <td>0.0</td>\n",
       "      <td>0.0</td>\n",
       "      <td>2.0</td>\n",
       "      <td>13.06</td>\n",
       "      <td>KS</td>\n",
       "      <td>False</td>\n",
       "      <td>True</td>\n",
       "    </tr>\n",
       "    <tr>\n",
       "      <th>3</th>\n",
       "      <td>503740b8-b4dc-4e91-8f1a-6971b6fdea5c</td>\n",
       "      <td>1.0</td>\n",
       "      <td>4.0</td>\n",
       "      <td>0.0</td>\n",
       "      <td>0.0</td>\n",
       "      <td>2.0</td>\n",
       "      <td>13.12</td>\n",
       "      <td>KS</td>\n",
       "      <td>False</td>\n",
       "      <td>True</td>\n",
       "    </tr>\n",
       "    <tr>\n",
       "      <th>4</th>\n",
       "      <td>503740b8-b4dc-4e91-8f1a-6971b6fdea5c</td>\n",
       "      <td>2.0</td>\n",
       "      <td>1.0</td>\n",
       "      <td>1.0</td>\n",
       "      <td>0.0</td>\n",
       "      <td>0.0</td>\n",
       "      <td>28.77</td>\n",
       "      <td>KS</td>\n",
       "      <td>False</td>\n",
       "      <td>True</td>\n",
       "    </tr>\n",
       "  </tbody>\n",
       "</table>\n",
       "</div>"
      ],
      "text/plain": [
       "                                game_id  event  subevent  outs  balls  \\\n",
       "0  503740b8-b4dc-4e91-8f1a-6971b6fdea5c    1.0       1.0   0.0    0.0   \n",
       "1  503740b8-b4dc-4e91-8f1a-6971b6fdea5c    1.0       2.0   0.0    0.0   \n",
       "2  503740b8-b4dc-4e91-8f1a-6971b6fdea5c    1.0       3.0   0.0    0.0   \n",
       "3  503740b8-b4dc-4e91-8f1a-6971b6fdea5c    1.0       4.0   0.0    0.0   \n",
       "4  503740b8-b4dc-4e91-8f1a-6971b6fdea5c    2.0       1.0   1.0    0.0   \n",
       "\n",
       "   strikes  reach outcome  is_reach  prediction_correct  \n",
       "0      0.0  25.77      KS     False                True  \n",
       "1      1.0  23.91      KS     False                True  \n",
       "2      2.0  13.06      KS     False                True  \n",
       "3      2.0  13.12      KS     False                True  \n",
       "4      0.0  28.77      KS     False                True  "
      ]
     },
     "execution_count": 56,
     "metadata": {},
     "output_type": "execute_result"
    }
   ],
   "source": [
    "# Add \"prediction_correct\" column (boolean) to dataframe\n",
    "\n",
    "df['prediction_correct'] = np.where((df['reach'] > 50) == df['is_reach'], True, False)\n",
    "df.head()"
   ]
  },
  {
   "cell_type": "markdown",
   "metadata": {},
   "source": [
    "### 3. Determine how many predictions were “correct” out of the total to provide an “accuracy” of how often the models were correct in predicting “reach”."
   ]
  },
  {
   "cell_type": "code",
   "execution_count": 60,
   "metadata": {},
   "outputs": [
    {
     "name": "stdout",
     "output_type": "stream",
     "text": [
      "Out of 414,195 predictions, 282265 predictions were correct. An accuracy of 68.14785306437788.\n"
     ]
    }
   ],
   "source": [
    "# Calculate the accuracy of the model correctly predicting reach\n",
    "\n",
    "print(f\"Out of 414,195 predictions, {sum(df.prediction_correct)} predictions were correct. An accuracy of \" \\\n",
    "     f\"{100 * sum(df.prediction_correct) / len(df)}.\")"
   ]
  },
  {
   "cell_type": "markdown",
   "metadata": {},
   "source": [
    "# Additional Problems (Optional) Solution"
   ]
  },
  {
   "cell_type": "markdown",
   "metadata": {},
   "source": [
    "### 1. How would you turn this into a microservice or automate the running of this?"
   ]
  },
  {
   "cell_type": "markdown",
   "metadata": {},
   "source": [
    "This response assumes that the goal of the automation is to recalculate the accuracy of the prediction model during a game using the sample data provided. Also, it is assumed that the updated accuracy value is displayed live during a game. \n",
    "\n",
    "One way to automate the running of the accuracy is to implement a cron job. The cron job would perform a recalculation of the accuracy after each pitch of the game. The architecture would include a client, server, cache,  a logs table (to keep track of each cron job), and a data table (to store data on pitches such as the given sample data set). For this explanation, only one client is accounted for. The client being a local tv network showing only the games for one local team.\n",
    "\n",
    "The client would send a request that contains a cron job to the entrypoint server (server), requesting an accuracy value based off of data collected from previous games. The cron job would be performed once a day during the baseball season. The cron job will also request that the accuracy value be sent to a cache. During the game, the client would store data from each pitch into the cache and recalculate the accuracy value by including the new data. By using the cache, outputting the next average accuracy only has a runtime of O(1) by adding the latest value and dividing. This is as opposed a runtime of about O(n) when each data entry is sent to the data table and the accuracy is recalculated using the entire database. Also, Aanother cron job sent by the client would send all the new data stored in the cache to the data table at the end of each day during the baseball season. \n",
    "\n",
    "Each cron job would be logged into the logs table in order to keep track of each cron job action for debugging or system failure purposes. Each row in the logs table accounts for one job. Also, each time that a job runs is a different row. Things included in the logs table would be a time log, duration of each job, the return values, and any logs from the script. Since the assumption is made that there is only one client and the number of jobs performed is small, a queue/scheduler can be used but is not necessary. \n"
   ]
  },
  {
   "cell_type": "markdown",
   "metadata": {},
   "source": [
    "### 2. Describe how you would parallelize this for more than one outcome."
   ]
  },
  {
   "cell_type": "markdown",
   "metadata": {},
   "source": [
    "If there is more than one client, with a client being the broadcast of one mlb team's games, then a jobs table, scheduler, and worker pool would also need to be implemented. Cron jobs sent by the client servers would be sent to an entry point server, which then sends that information (along with any associated data such as client ID) to the jobs table. The jobs table stores cron jobs that need to be ran. The scheduler polls the jobs table at a time interval (such as every hour) and identifies jobs that need to be ran. The jobs that need to be ran will be sent to a queue from which the worker pool reads first in first out. Each worker in the worker pool runs a script as designated by the cron job. If the worker runs a script with no issues, a return value is sent indicating a successful run. If a job fails and it is the first time it has failed, the scheduler sends the job back to the queue. If the job fails multiple times, the scheduler checks to see how many times the worker has failed. If the worker has failed many times, the worker is killed and a new worker is created. If the job has failed more than a limited amount of times, an error message is sent the client. The scheduler can poll the log table to see if a job has been running for more than 24 hours. If so, the job is killed. The scheduler would also be able to monitor the size of queue to see if workers should be created or killed. \n"
   ]
  },
  {
   "cell_type": "markdown",
   "metadata": {},
   "source": [
    "### 3. How would you communicate the results automatically?"
   ]
  },
  {
   "cell_type": "markdown",
   "metadata": {},
   "source": [
    "The results would be shown on the TV screen immediately after each pitch. The client server would send the sequential data to the cache during the live game and retrieve the newly calculated average accuracy after each pitch. "
   ]
  }
 ],
 "metadata": {
  "kernelspec": {
   "display_name": "Python 3",
   "language": "python",
   "name": "python3"
  },
  "language_info": {
   "codemirror_mode": {
    "name": "ipython",
    "version": 3
   },
   "file_extension": ".py",
   "mimetype": "text/x-python",
   "name": "python",
   "nbconvert_exporter": "python",
   "pygments_lexer": "ipython3",
   "version": "3.7.0"
  }
 },
 "nbformat": 4,
 "nbformat_minor": 2
}
